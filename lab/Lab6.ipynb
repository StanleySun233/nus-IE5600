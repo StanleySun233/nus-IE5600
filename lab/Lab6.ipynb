{
 "cells": [
  {
   "metadata": {},
   "cell_type": "markdown",
   "source": "# Question1: Dog",
   "id": "eabe25838d252645"
  },
  {
   "metadata": {
    "ExecuteTime": {
     "end_time": "2024-10-15T09:23:54.440906Z",
     "start_time": "2024-10-15T09:23:54.433112Z"
    }
   },
   "cell_type": "code",
   "source": [
    "class Dog:\n",
    "    def __init__(self, name, age):\n",
    "        self.name = name\n",
    "        self.age = age\n",
    "\n",
    "    def describe_the_dog(self):\n",
    "        print(f\"My dog’s name is {self.name} and she is {self.age} years old.\")\n",
    "    \n",
    "    def sit(self):\n",
    "        print(f\"{self.name}, sit down!\")\n",
    "    \n",
    "    def shake_hand(self):\n",
    "        print(f\"{self.name}, shake my hand.\")"
   ],
   "id": "b133d6b469848b9d",
   "outputs": [],
   "execution_count": 1
  },
  {
   "metadata": {
    "ExecuteTime": {
     "end_time": "2024-10-15T09:23:54.481898Z",
     "start_time": "2024-10-15T09:23:54.478719Z"
    }
   },
   "cell_type": "code",
   "source": [
    "# Creating two instances of Dog class\n",
    "wendy = Dog('Wendy', 3)\n",
    "lucy = Dog('Lucy', 6)\n",
    "\n",
    "# Calling methods for Wendy\n",
    "wendy.describe_the_dog()\n",
    "wendy.sit()\n",
    "wendy.shake_hand()\n",
    "\n",
    "# Calling methods for Lucy\n",
    "lucy.describe_the_dog()\n",
    "lucy.sit()\n",
    "lucy.shake_hand()\n"
   ],
   "id": "8fb3cef89a919df",
   "outputs": [
    {
     "name": "stdout",
     "output_type": "stream",
     "text": [
      "My dog’s name is Wendy and she is 3 years old.\n",
      "Wendy, sit down!\n",
      "Wendy, shake my hand.\n",
      "My dog’s name is Lucy and she is 6 years old.\n",
      "Lucy, sit down!\n",
      "Lucy, shake my hand.\n"
     ]
    }
   ],
   "execution_count": 2
  },
  {
   "metadata": {},
   "cell_type": "markdown",
   "source": "# Question2: Car",
   "id": "be06f7826d057d2a"
  },
  {
   "metadata": {
    "ExecuteTime": {
     "end_time": "2024-10-15T09:23:54.592673Z",
     "start_time": "2024-10-15T09:23:54.588789Z"
    }
   },
   "cell_type": "code",
   "source": [
    "class Car:\n",
    "    def __init__(self, make, model, year, color):\n",
    "        self.make = make\n",
    "        self.model = model\n",
    "        self.year = year\n",
    "        self.color = color\n",
    "        self.odometer_reading = 0  # Default value for new cars\n",
    "\n",
    "    def describe_the_car(self):\n",
    "        print(f\"{self.make}--{self.model}--{self.year}--{self.color}\")\n",
    "    \n",
    "    def read_odometer(self):\n",
    "        print(f\"This car has {self.odometer_reading} miles on it.\")\n",
    "\n",
    "    def update_odometer(self, mileage):\n",
    "        if mileage >= self.odometer_reading:\n",
    "            self.odometer_reading = mileage\n",
    "        else:\n",
    "            print(\"You cannot roll back the odometer!\")"
   ],
   "id": "6fbbce10a525015f",
   "outputs": [],
   "execution_count": 3
  },
  {
   "metadata": {
    "ExecuteTime": {
     "end_time": "2024-10-15T09:23:54.643356Z",
     "start_time": "2024-10-15T09:23:54.640308Z"
    }
   },
   "cell_type": "code",
   "source": [
    "# Test case\n",
    "car1 = Car('Audi', 'A4', '2023', 'white')\n",
    "\n",
    "# Calling describe_the_car method\n",
    "car1.describe_the_car()\n",
    "\n",
    "# Reading the initial odometer value\n",
    "car1.read_odometer()\n",
    "\n",
    "# Updating the odometer value to 12 miles\n",
    "car1.update_odometer(12)\n",
    "\n",
    "# Reading the updated odometer value\n",
    "car1.read_odometer()\n"
   ],
   "id": "7e66c8269d3958a7",
   "outputs": [
    {
     "name": "stdout",
     "output_type": "stream",
     "text": [
      "Audi--A4--2023--white\n",
      "This car has 0 miles on it.\n",
      "This car has 12 miles on it.\n"
     ]
    }
   ],
   "execution_count": 4
  }
 ],
 "metadata": {
  "kernelspec": {
   "display_name": "Python 3",
   "language": "python",
   "name": "python3"
  },
  "language_info": {
   "codemirror_mode": {
    "name": "ipython",
    "version": 2
   },
   "file_extension": ".py",
   "mimetype": "text/x-python",
   "name": "python",
   "nbconvert_exporter": "python",
   "pygments_lexer": "ipython2",
   "version": "2.7.6"
  }
 },
 "nbformat": 4,
 "nbformat_minor": 5
}
